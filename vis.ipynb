{
 "cells": [
  {
   "cell_type": "code",
   "id": "initial_id",
   "metadata": {
    "collapsed": true,
    "ExecuteTime": {
     "end_time": "2025-01-30T08:24:40.950037Z",
     "start_time": "2025-01-30T08:24:40.944682Z"
    }
   },
   "source": [
    "import pandas as pd\n",
    "import matplotlib.pyplot as plt"
   ],
   "outputs": [],
   "execution_count": 9
  },
  {
   "metadata": {
    "ExecuteTime": {
     "end_time": "2025-01-30T08:24:43.054115Z",
     "start_time": "2025-01-30T08:24:42.414929Z"
    }
   },
   "cell_type": "code",
   "source": [
    "logs = pd.read_csv('accessLogGeneration/logs.csv')\n",
    "logs.head()"
   ],
   "id": "c35956604b8c479c",
   "outputs": [
    {
     "data": {
      "text/plain": [
       "   timestamp action         host        clientIp country           uri\n",
       "0     166932  ALLOW  www.Mfnk.de  64.254.162.196      DE  /placeholder\n",
       "1     119215  ALLOW  www.Mfnk.de  64.254.162.196      DE  /placeholder\n",
       "2     468247  ALLOW  www.Mfnk.de  64.254.162.196      DE  /placeholder\n",
       "3     491385  ALLOW  www.Mfnk.de  64.254.162.196      DE  /placeholder\n",
       "4     450193  ALLOW  www.Mfnk.de  64.254.162.196      DE  /placeholder"
      ],
      "text/html": [
       "<div>\n",
       "<style scoped>\n",
       "    .dataframe tbody tr th:only-of-type {\n",
       "        vertical-align: middle;\n",
       "    }\n",
       "\n",
       "    .dataframe tbody tr th {\n",
       "        vertical-align: top;\n",
       "    }\n",
       "\n",
       "    .dataframe thead th {\n",
       "        text-align: right;\n",
       "    }\n",
       "</style>\n",
       "<table border=\"1\" class=\"dataframe\">\n",
       "  <thead>\n",
       "    <tr style=\"text-align: right;\">\n",
       "      <th></th>\n",
       "      <th>timestamp</th>\n",
       "      <th>action</th>\n",
       "      <th>host</th>\n",
       "      <th>clientIp</th>\n",
       "      <th>country</th>\n",
       "      <th>uri</th>\n",
       "    </tr>\n",
       "  </thead>\n",
       "  <tbody>\n",
       "    <tr>\n",
       "      <th>0</th>\n",
       "      <td>166932</td>\n",
       "      <td>ALLOW</td>\n",
       "      <td>www.Mfnk.de</td>\n",
       "      <td>64.254.162.196</td>\n",
       "      <td>DE</td>\n",
       "      <td>/placeholder</td>\n",
       "    </tr>\n",
       "    <tr>\n",
       "      <th>1</th>\n",
       "      <td>119215</td>\n",
       "      <td>ALLOW</td>\n",
       "      <td>www.Mfnk.de</td>\n",
       "      <td>64.254.162.196</td>\n",
       "      <td>DE</td>\n",
       "      <td>/placeholder</td>\n",
       "    </tr>\n",
       "    <tr>\n",
       "      <th>2</th>\n",
       "      <td>468247</td>\n",
       "      <td>ALLOW</td>\n",
       "      <td>www.Mfnk.de</td>\n",
       "      <td>64.254.162.196</td>\n",
       "      <td>DE</td>\n",
       "      <td>/placeholder</td>\n",
       "    </tr>\n",
       "    <tr>\n",
       "      <th>3</th>\n",
       "      <td>491385</td>\n",
       "      <td>ALLOW</td>\n",
       "      <td>www.Mfnk.de</td>\n",
       "      <td>64.254.162.196</td>\n",
       "      <td>DE</td>\n",
       "      <td>/placeholder</td>\n",
       "    </tr>\n",
       "    <tr>\n",
       "      <th>4</th>\n",
       "      <td>450193</td>\n",
       "      <td>ALLOW</td>\n",
       "      <td>www.Mfnk.de</td>\n",
       "      <td>64.254.162.196</td>\n",
       "      <td>DE</td>\n",
       "      <td>/placeholder</td>\n",
       "    </tr>\n",
       "  </tbody>\n",
       "</table>\n",
       "</div>"
      ]
     },
     "execution_count": 10,
     "metadata": {},
     "output_type": "execute_result"
    }
   ],
   "execution_count": 10
  },
  {
   "metadata": {
    "ExecuteTime": {
     "end_time": "2025-01-30T08:24:44.647317Z",
     "start_time": "2025-01-30T08:24:44.561902Z"
    }
   },
   "cell_type": "code",
   "source": [
    "client_count = logs.groupby('clientIp').size().reset_index(name='count')\n",
    "client_count"
   ],
   "id": "c9c775f4241e0af3",
   "outputs": [
    {
     "data": {
      "text/plain": [
       "            clientIp  count\n",
       "0     10.116.108.210    812\n",
       "1        10.13.28.89    883\n",
       "2       10.205.4.221    809\n",
       "3      10.46.134.149    871\n",
       "4       10.70.227.68    869\n",
       "...              ...    ...\n",
       "2515  99.208.151.248    816\n",
       "2516    99.253.64.82    847\n",
       "2517     99.35.43.69    817\n",
       "2518    99.62.247.72    803\n",
       "2519    99.92.205.17    855\n",
       "\n",
       "[2520 rows x 2 columns]"
      ],
      "text/html": [
       "<div>\n",
       "<style scoped>\n",
       "    .dataframe tbody tr th:only-of-type {\n",
       "        vertical-align: middle;\n",
       "    }\n",
       "\n",
       "    .dataframe tbody tr th {\n",
       "        vertical-align: top;\n",
       "    }\n",
       "\n",
       "    .dataframe thead th {\n",
       "        text-align: right;\n",
       "    }\n",
       "</style>\n",
       "<table border=\"1\" class=\"dataframe\">\n",
       "  <thead>\n",
       "    <tr style=\"text-align: right;\">\n",
       "      <th></th>\n",
       "      <th>clientIp</th>\n",
       "      <th>count</th>\n",
       "    </tr>\n",
       "  </thead>\n",
       "  <tbody>\n",
       "    <tr>\n",
       "      <th>0</th>\n",
       "      <td>10.116.108.210</td>\n",
       "      <td>812</td>\n",
       "    </tr>\n",
       "    <tr>\n",
       "      <th>1</th>\n",
       "      <td>10.13.28.89</td>\n",
       "      <td>883</td>\n",
       "    </tr>\n",
       "    <tr>\n",
       "      <th>2</th>\n",
       "      <td>10.205.4.221</td>\n",
       "      <td>809</td>\n",
       "    </tr>\n",
       "    <tr>\n",
       "      <th>3</th>\n",
       "      <td>10.46.134.149</td>\n",
       "      <td>871</td>\n",
       "    </tr>\n",
       "    <tr>\n",
       "      <th>4</th>\n",
       "      <td>10.70.227.68</td>\n",
       "      <td>869</td>\n",
       "    </tr>\n",
       "    <tr>\n",
       "      <th>...</th>\n",
       "      <td>...</td>\n",
       "      <td>...</td>\n",
       "    </tr>\n",
       "    <tr>\n",
       "      <th>2515</th>\n",
       "      <td>99.208.151.248</td>\n",
       "      <td>816</td>\n",
       "    </tr>\n",
       "    <tr>\n",
       "      <th>2516</th>\n",
       "      <td>99.253.64.82</td>\n",
       "      <td>847</td>\n",
       "    </tr>\n",
       "    <tr>\n",
       "      <th>2517</th>\n",
       "      <td>99.35.43.69</td>\n",
       "      <td>817</td>\n",
       "    </tr>\n",
       "    <tr>\n",
       "      <th>2518</th>\n",
       "      <td>99.62.247.72</td>\n",
       "      <td>803</td>\n",
       "    </tr>\n",
       "    <tr>\n",
       "      <th>2519</th>\n",
       "      <td>99.92.205.17</td>\n",
       "      <td>855</td>\n",
       "    </tr>\n",
       "  </tbody>\n",
       "</table>\n",
       "<p>2520 rows × 2 columns</p>\n",
       "</div>"
      ]
     },
     "execution_count": 11,
     "metadata": {},
     "output_type": "execute_result"
    }
   ],
   "execution_count": 11
  },
  {
   "metadata": {
    "ExecuteTime": {
     "end_time": "2025-01-30T08:24:50.841787Z",
     "start_time": "2025-01-30T08:24:47.340069Z"
    }
   },
   "cell_type": "code",
   "source": [
    "plt.scatter(client_count['clientIp'], client_count['count'])\n",
    "plt.show()"
   ],
   "id": "ba6c215dfe82625e",
   "outputs": [
    {
     "data": {
      "text/plain": [
       "<Figure size 640x480 with 1 Axes>"
      ],
      "image/png": "[encoded data removed]"
     },
     "metadata": {},
     "output_type": "display_data"
    }
   ],
   "execution_count": 12
  },
  {
   "metadata": {
    "ExecuteTime": {
     "end_time": "2025-01-30T08:25:05.433579Z",
     "start_time": "2025-01-30T08:25:05.425669Z"
    }
   },
   "cell_type": "code",
   "source": [
    "print(logs['timestamp'].mean())\n",
    "print(logs['timestamp'].count())"
   ],
   "id": "c66a117ac3d45a7d",
   "outputs": [
    {
     "name": "stdout",
     "output_type": "stream",
     "text": [
      "400070.18393434765\n",
      "2139633\n"
     ]
    }
   ],
   "execution_count": 14
  },
  {
   "metadata": {
    "ExecuteTime": {
     "end_time": "2025-01-30T08:25:07.451570Z",
     "start_time": "2025-01-30T08:25:07.325846Z"
    }
   },
   "cell_type": "code",
   "source": [
    "timestamp_counts = logs.groupby('timestamp').size().reset_index(name='count')\n",
    "timestamp_counts"
   ],
   "id": "76cfb8ac174da3e5",
   "outputs": [
    {
     "data": {
      "text/plain": [
       "        timestamp  count\n",
       "0          100000      6\n",
       "1          100001      2\n",
       "2          100002      3\n",
       "3          100003      3\n",
       "4          100004      2\n",
       "...           ...    ...\n",
       "583049     699996      4\n",
       "583050     699997      2\n",
       "583051     699998      1\n",
       "583052     699999      7\n",
       "583053     700000      2\n",
       "\n",
       "[583054 rows x 2 columns]"
      ],
      "text/html": [
       "<div>\n",
       "<style scoped>\n",
       "    .dataframe tbody tr th:only-of-type {\n",
       "        vertical-align: middle;\n",
       "    }\n",
       "\n",
       "    .dataframe tbody tr th {\n",
       "        vertical-align: top;\n",
       "    }\n",
       "\n",
       "    .dataframe thead th {\n",
       "        text-align: right;\n",
       "    }\n",
       "</style>\n",
       "<table border=\"1\" class=\"dataframe\">\n",
       "  <thead>\n",
       "    <tr style=\"text-align: right;\">\n",
       "      <th></th>\n",
       "      <th>timestamp</th>\n",
       "      <th>count</th>\n",
       "    </tr>\n",
       "  </thead>\n",
       "  <tbody>\n",
       "    <tr>\n",
       "      <th>0</th>\n",
       "      <td>100000</td>\n",
       "      <td>6</td>\n",
       "    </tr>\n",
       "    <tr>\n",
       "      <th>1</th>\n",
       "      <td>100001</td>\n",
       "      <td>2</td>\n",
       "    </tr>\n",
       "    <tr>\n",
       "      <th>2</th>\n",
       "      <td>100002</td>\n",
       "      <td>3</td>\n",
       "    </tr>\n",
       "    <tr>\n",
       "      <th>3</th>\n",
       "      <td>100003</td>\n",
       "      <td>3</td>\n",
       "    </tr>\n",
       "    <tr>\n",
       "      <th>4</th>\n",
       "      <td>100004</td>\n",
       "      <td>2</td>\n",
       "    </tr>\n",
       "    <tr>\n",
       "      <th>...</th>\n",
       "      <td>...</td>\n",
       "      <td>...</td>\n",
       "    </tr>\n",
       "    <tr>\n",
       "      <th>583049</th>\n",
       "      <td>699996</td>\n",
       "      <td>4</td>\n",
       "    </tr>\n",
       "    <tr>\n",
       "      <th>583050</th>\n",
       "      <td>699997</td>\n",
       "      <td>2</td>\n",
       "    </tr>\n",
       "    <tr>\n",
       "      <th>583051</th>\n",
       "      <td>699998</td>\n",
       "      <td>1</td>\n",
       "    </tr>\n",
       "    <tr>\n",
       "      <th>583052</th>\n",
       "      <td>699999</td>\n",
       "      <td>7</td>\n",
       "    </tr>\n",
       "    <tr>\n",
       "      <th>583053</th>\n",
       "      <td>700000</td>\n",
       "      <td>2</td>\n",
       "    </tr>\n",
       "  </tbody>\n",
       "</table>\n",
       "<p>583054 rows × 2 columns</p>\n",
       "</div>"
      ]
     },
     "execution_count": 15,
     "metadata": {},
     "output_type": "execute_result"
    }
   ],
   "execution_count": 15
  },
  {
   "metadata": {
    "ExecuteTime": {
     "end_time": "2025-01-30T08:25:10.777831Z",
     "start_time": "2025-01-30T08:25:10.480022Z"
    }
   },
   "cell_type": "code",
   "source": [
    "plt.scatter(timestamp_counts['timestamp'], timestamp_counts['count'])\n",
    "plt.show()"
   ],
   "id": "124a290138dc5eb",
   "outputs": [
    {
     "data": {
      "text/plain": [
       "<Figure size 640x480 with 1 Axes>"
      ],
      "image/png": "[encoded data removed]"
     },
     "metadata": {},
     "output_type": "display_data"
    }
   ],
   "execution_count": 16
  }
 ],
 "metadata": {
  "kernelspec": {
   "display_name": "Python 3",
   "language": "python",
   "name": "python3"
  },
  "language_info": {
   "codemirror_mode": {
    "name": "ipython",
    "version": 2
   },
   "file_extension": ".py",
   "mimetype": "text/x-python",
   "name": "python",
   "nbconvert_exporter": "python",
   "pygments_lexer": "ipython2",
   "version": "2.7.6"
  }
 },
 "nbformat": 4,
 "nbformat_minor": 5
}
