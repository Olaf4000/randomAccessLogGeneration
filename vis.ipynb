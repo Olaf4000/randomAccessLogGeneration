{
 "cells": [
  {
   "cell_type": "code",
   "id": "initial_id",
   "metadata": {
    "collapsed": true,
    "ExecuteTime": {
     "end_time": "2025-01-29T15:30:44.301603Z",
     "start_time": "2025-01-29T15:30:43.807808Z"
    }
   },
   "source": [
    "import pandas as pd\n",
    "import matplotlib.pyplot as plt"
   ],
   "outputs": [],
   "execution_count": 1
  },
  {
   "metadata": {
    "ExecuteTime": {
     "end_time": "2025-01-29T15:30:45.553371Z",
     "start_time": "2025-01-29T15:30:45.141122Z"
    }
   },
   "cell_type": "code",
   "source": [
    "logs = pd.read_csv('accessLogGeneration/logs.csv')\n",
    "logs.head()"
   ],
   "id": "c35956604b8c479c",
   "outputs": [
    {
     "data": {
      "text/plain": [
       "   timestamp action         host       clientIp country           uri\n",
       "0     463168  ALLOW  www.jYYu.de  17.145.33.145      DE  /placeholder\n",
       "1     149568  ALLOW  www.jYYu.de  17.145.33.145      DE  /placeholder\n",
       "2     681075  ALLOW  www.jYYu.de  17.145.33.145      DE  /placeholder\n",
       "3     583674  ALLOW  www.jYYu.de  17.145.33.145      DE  /placeholder\n",
       "4     223947  ALLOW  www.jYYu.de  17.145.33.145      DE  /placeholder"
      ],
      "text/html": [
       "<div>\n",
       "<style scoped>\n",
       "    .dataframe tbody tr th:only-of-type {\n",
       "        vertical-align: middle;\n",
       "    }\n",
       "\n",
       "    .dataframe tbody tr th {\n",
       "        vertical-align: top;\n",
       "    }\n",
       "\n",
       "    .dataframe thead th {\n",
       "        text-align: right;\n",
       "    }\n",
       "</style>\n",
       "<table border=\"1\" class=\"dataframe\">\n",
       "  <thead>\n",
       "    <tr style=\"text-align: right;\">\n",
       "      <th></th>\n",
       "      <th>timestamp</th>\n",
       "      <th>action</th>\n",
       "      <th>host</th>\n",
       "      <th>clientIp</th>\n",
       "      <th>country</th>\n",
       "      <th>uri</th>\n",
       "    </tr>\n",
       "  </thead>\n",
       "  <tbody>\n",
       "    <tr>\n",
       "      <th>0</th>\n",
       "      <td>463168</td>\n",
       "      <td>ALLOW</td>\n",
       "      <td>www.jYYu.de</td>\n",
       "      <td>17.145.33.145</td>\n",
       "      <td>DE</td>\n",
       "      <td>/placeholder</td>\n",
       "    </tr>\n",
       "    <tr>\n",
       "      <th>1</th>\n",
       "      <td>149568</td>\n",
       "      <td>ALLOW</td>\n",
       "      <td>www.jYYu.de</td>\n",
       "      <td>17.145.33.145</td>\n",
       "      <td>DE</td>\n",
       "      <td>/placeholder</td>\n",
       "    </tr>\n",
       "    <tr>\n",
       "      <th>2</th>\n",
       "      <td>681075</td>\n",
       "      <td>ALLOW</td>\n",
       "      <td>www.jYYu.de</td>\n",
       "      <td>17.145.33.145</td>\n",
       "      <td>DE</td>\n",
       "      <td>/placeholder</td>\n",
       "    </tr>\n",
       "    <tr>\n",
       "      <th>3</th>\n",
       "      <td>583674</td>\n",
       "      <td>ALLOW</td>\n",
       "      <td>www.jYYu.de</td>\n",
       "      <td>17.145.33.145</td>\n",
       "      <td>DE</td>\n",
       "      <td>/placeholder</td>\n",
       "    </tr>\n",
       "    <tr>\n",
       "      <th>4</th>\n",
       "      <td>223947</td>\n",
       "      <td>ALLOW</td>\n",
       "      <td>www.jYYu.de</td>\n",
       "      <td>17.145.33.145</td>\n",
       "      <td>DE</td>\n",
       "      <td>/placeholder</td>\n",
       "    </tr>\n",
       "  </tbody>\n",
       "</table>\n",
       "</div>"
      ]
     },
     "execution_count": 2,
     "metadata": {},
     "output_type": "execute_result"
    }
   ],
   "execution_count": 2
  },
  {
   "metadata": {
    "ExecuteTime": {
     "end_time": "2025-01-29T13:18:21.378558Z",
     "start_time": "2025-01-29T13:18:21.367063Z"
    }
   },
   "cell_type": "code",
   "source": [
    "print(logs['timestamp'].mean())\n",
    "print(logs['timestamp'].count())"
   ],
   "id": "c66a117ac3d45a7d",
   "outputs": [
    {
     "name": "stdout",
     "output_type": "stream",
     "text": [
      "399611.9954018049\n",
      "1372930\n"
     ]
    }
   ],
   "execution_count": 19
  },
  {
   "metadata": {
    "ExecuteTime": {
     "end_time": "2025-01-29T15:30:48.146469Z",
     "start_time": "2025-01-29T15:30:48.037999Z"
    }
   },
   "cell_type": "code",
   "source": [
    "timestamp_counts = logs.groupby('timestamp').size().reset_index(name='count')\n",
    "timestamp_counts"
   ],
   "id": "76cfb8ac174da3e5",
   "outputs": [
    {
     "data": {
      "text/plain": [
       "        timestamp  count\n",
       "0          100000      2\n",
       "1          100001      6\n",
       "2          100002      1\n",
       "3          100003      1\n",
       "4          100004      4\n",
       "...           ...    ...\n",
       "536380     699994      3\n",
       "536381     699995      2\n",
       "536382     699997      1\n",
       "536383     699998      5\n",
       "536384     700000      3\n",
       "\n",
       "[536385 rows x 2 columns]"
      ],
      "text/html": [
       "<div>\n",
       "<style scoped>\n",
       "    .dataframe tbody tr th:only-of-type {\n",
       "        vertical-align: middle;\n",
       "    }\n",
       "\n",
       "    .dataframe tbody tr th {\n",
       "        vertical-align: top;\n",
       "    }\n",
       "\n",
       "    .dataframe thead th {\n",
       "        text-align: right;\n",
       "    }\n",
       "</style>\n",
       "<table border=\"1\" class=\"dataframe\">\n",
       "  <thead>\n",
       "    <tr style=\"text-align: right;\">\n",
       "      <th></th>\n",
       "      <th>timestamp</th>\n",
       "      <th>count</th>\n",
       "    </tr>\n",
       "  </thead>\n",
       "  <tbody>\n",
       "    <tr>\n",
       "      <th>0</th>\n",
       "      <td>100000</td>\n",
       "      <td>2</td>\n",
       "    </tr>\n",
       "    <tr>\n",
       "      <th>1</th>\n",
       "      <td>100001</td>\n",
       "      <td>6</td>\n",
       "    </tr>\n",
       "    <tr>\n",
       "      <th>2</th>\n",
       "      <td>100002</td>\n",
       "      <td>1</td>\n",
       "    </tr>\n",
       "    <tr>\n",
       "      <th>3</th>\n",
       "      <td>100003</td>\n",
       "      <td>1</td>\n",
       "    </tr>\n",
       "    <tr>\n",
       "      <th>4</th>\n",
       "      <td>100004</td>\n",
       "      <td>4</td>\n",
       "    </tr>\n",
       "    <tr>\n",
       "      <th>...</th>\n",
       "      <td>...</td>\n",
       "      <td>...</td>\n",
       "    </tr>\n",
       "    <tr>\n",
       "      <th>536380</th>\n",
       "      <td>699994</td>\n",
       "      <td>3</td>\n",
       "    </tr>\n",
       "    <tr>\n",
       "      <th>536381</th>\n",
       "      <td>699995</td>\n",
       "      <td>2</td>\n",
       "    </tr>\n",
       "    <tr>\n",
       "      <th>536382</th>\n",
       "      <td>699997</td>\n",
       "      <td>1</td>\n",
       "    </tr>\n",
       "    <tr>\n",
       "      <th>536383</th>\n",
       "      <td>699998</td>\n",
       "      <td>5</td>\n",
       "    </tr>\n",
       "    <tr>\n",
       "      <th>536384</th>\n",
       "      <td>700000</td>\n",
       "      <td>3</td>\n",
       "    </tr>\n",
       "  </tbody>\n",
       "</table>\n",
       "<p>536385 rows × 2 columns</p>\n",
       "</div>"
      ]
     },
     "execution_count": 3,
     "metadata": {},
     "output_type": "execute_result"
    }
   ],
   "execution_count": 3
  },
  {
   "metadata": {
    "ExecuteTime": {
     "end_time": "2025-01-29T15:31:11.193018Z",
     "start_time": "2025-01-29T15:31:10.900002Z"
    }
   },
   "cell_type": "code",
   "source": [
    "plt.scatter(timestamp_counts['timestamp'], timestamp_counts['count'])\n",
    "plt.show()"
   ],
   "id": "124a290138dc5eb",
   "outputs": [
    {
     "data": {
      "text/plain": [
       "<Figure size 640x480 with 1 Axes>"
      ],
      "image/png": "[encoded data removed]"
     },
     "metadata": {},
     "output_type": "display_data"
    }
   ],
   "execution_count": 4
  }
 ],
 "metadata": {
  "kernelspec": {
   "display_name": "Python 3",
   "language": "python",
   "name": "python3"
  },
  "language_info": {
   "codemirror_mode": {
    "name": "ipython",
    "version": 2
   },
   "file_extension": ".py",
   "mimetype": "text/x-python",
   "name": "python",
   "nbconvert_exporter": "python",
   "pygments_lexer": "ipython2",
   "version": "2.7.6"
  }
 },
 "nbformat": 4,
 "nbformat_minor": 5
}
